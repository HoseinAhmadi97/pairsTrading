{
 "cells": [
  {
   "cell_type": "code",
   "execution_count": 30,
   "metadata": {},
   "outputs": [],
   "source": [
    "import sys\n",
    "sys.path.append('../')\n",
    "from bs4 import BeautifulSoup\n",
    "import pandas as pd\n",
    "import requests\n",
    "import urllib3\n",
    "from utils.data_gatherer import *\n",
    "from tqdm import tqdm\n",
    "import pickle"
   ]
  },
  {
   "cell_type": "markdown",
   "metadata": {},
   "source": [
    "#### get tickers list"
   ]
  },
  {
   "cell_type": "code",
   "execution_count": 31,
   "metadata": {},
   "outputs": [],
   "source": [
    "http = urllib3.PoolManager()\n",
    "ticker = []\n",
    "web_id = []\n",
    "name = []\n",
    "\n",
    "look_up = pd.DataFrame({'Ticker':[],'Name':[],'WEB-ID':[],'Market':[]})\n",
    "#bourse tickers\n",
    "r = http.request('GET', \"http://old.tsetmc.com/Loader.aspx?ParTree=15131J&i=32097828799138957\") \n",
    "soup = BeautifulSoup(r.data.decode('utf-8'), 'html.parser')\n",
    "table = soup.findAll(\"table\", {\"class\": \"table1\"})\n",
    "stock_list = table[0].find_all('a')\n",
    "for stock in stock_list:\n",
    "    ticker.append(stock.text)\n",
    "    name.append(stock.attrs[\"title\"])\n",
    "    web_id.append(stock.attrs[\"href\"].split(\"&i=\")[1])\n",
    "bourse_lookup = pd.DataFrame({'Ticker':ticker, 'Name':name,'WEB-ID':web_id}) \n",
    "bourse_lookup['Market'] = 'بورس'\n",
    "look_up = pd.concat([look_up,bourse_lookup],axis=0)\n",
    "\n",
    "#farabourse tickers\n",
    "r = http.request('GET', 'http://old.tsetmc.com/Loader.aspx?ParTree=15131J&i=43685683301327984') \n",
    "soup = BeautifulSoup(r.data.decode('utf-8'), 'html.parser')\n",
    "table = soup.findAll(\"table\", {\"class\": \"table1\"})\n",
    "stock_list = table[0].find_all('a')\n",
    "ticker = []\n",
    "web_id = []\n",
    "name = []\n",
    "for stock in stock_list:\n",
    "    ticker.append(stock.text)\n",
    "    name.append(stock.attrs[\"title\"])\n",
    "    web_id.append(stock.attrs[\"href\"].split(\"&i=\")[1])\n",
    "farabourse_lookup = pd.DataFrame({'Ticker':ticker, 'Name':name,'WEB-ID':web_id}) \n",
    "farabourse_lookup['Market'] = 'فرابورس'\n",
    "look_up = pd.concat([look_up,farabourse_lookup],axis=0)\n",
    "\n",
    "# rearrange columns\n",
    "look_up['Ticker'] = look_up['Ticker'].apply(lambda x: (str(x).replace('ي','ی')).replace('ك','ک'))\n",
    "look_up['Ticker'] = look_up['Ticker'].apply(lambda x: x.replace('\\u200c',' '))\n",
    "look_up['Name'] = look_up['Name'].apply(lambda x: (str(x).replace('ي','ی')).replace('ك','ک'))\n",
    "look_up['Name'] = look_up['Name'].apply(lambda x: x.replace('\\u200c',' '))"
   ]
  },
  {
   "cell_type": "code",
   "execution_count": 32,
   "metadata": {},
   "outputs": [
    {
     "data": {
      "text/plain": [
       "(573, 4)"
      ]
     },
     "execution_count": 32,
     "metadata": {},
     "output_type": "execute_result"
    }
   ],
   "source": [
    "look_up.shape"
   ]
  },
  {
   "cell_type": "code",
   "execution_count": 33,
   "metadata": {},
   "outputs": [
    {
     "data": {
      "text/html": [
       "<div>\n",
       "<style scoped>\n",
       "    .dataframe tbody tr th:only-of-type {\n",
       "        vertical-align: middle;\n",
       "    }\n",
       "\n",
       "    .dataframe tbody tr th {\n",
       "        vertical-align: top;\n",
       "    }\n",
       "\n",
       "    .dataframe thead th {\n",
       "        text-align: right;\n",
       "    }\n",
       "</style>\n",
       "<table border=\"1\" class=\"dataframe\">\n",
       "  <thead>\n",
       "    <tr style=\"text-align: right;\">\n",
       "      <th></th>\n",
       "      <th>Ticker</th>\n",
       "      <th>Name</th>\n",
       "      <th>WEB-ID</th>\n",
       "      <th>Market</th>\n",
       "    </tr>\n",
       "  </thead>\n",
       "  <tbody>\n",
       "    <tr>\n",
       "      <th>0</th>\n",
       "      <td>آباد</td>\n",
       "      <td>توریستی ورفاهی آبادگران ایران</td>\n",
       "      <td>59612098290740355</td>\n",
       "      <td>بورس</td>\n",
       "    </tr>\n",
       "    <tr>\n",
       "      <th>1</th>\n",
       "      <td>آبادا</td>\n",
       "      <td>تولید نیروی برق آبادان</td>\n",
       "      <td>37661500521100963</td>\n",
       "      <td>بورس</td>\n",
       "    </tr>\n",
       "    <tr>\n",
       "      <th>2</th>\n",
       "      <td>آپ</td>\n",
       "      <td>آسان پرداخت پرشین</td>\n",
       "      <td>55254206302462116</td>\n",
       "      <td>بورس</td>\n",
       "    </tr>\n",
       "    <tr>\n",
       "      <th>3</th>\n",
       "      <td>آسیا</td>\n",
       "      <td>بیمه آسیا</td>\n",
       "      <td>51106317433079213</td>\n",
       "      <td>بورس</td>\n",
       "    </tr>\n",
       "    <tr>\n",
       "      <th>4</th>\n",
       "      <td>اپال</td>\n",
       "      <td>فرآوری معدنی اپال کانی پارس</td>\n",
       "      <td>655060129740445</td>\n",
       "      <td>بورس</td>\n",
       "    </tr>\n",
       "  </tbody>\n",
       "</table>\n",
       "</div>"
      ],
      "text/plain": [
       "  Ticker                           Name             WEB-ID Market\n",
       "0   آباد  توریستی ورفاهی آبادگران ایران  59612098290740355   بورس\n",
       "1  آبادا         تولید نیروی برق آبادان  37661500521100963   بورس\n",
       "2     آپ              آسان پرداخت پرشین  55254206302462116   بورس\n",
       "3   آسیا                      بیمه آسیا  51106317433079213   بورس\n",
       "4   اپال    فرآوری معدنی اپال کانی پارس    655060129740445   بورس"
      ]
     },
     "execution_count": 33,
     "metadata": {},
     "output_type": "execute_result"
    }
   ],
   "source": [
    "look_up.head()"
   ]
  },
  {
   "cell_type": "markdown",
   "metadata": {},
   "source": [
    "#### fetch data"
   ]
  },
  {
   "cell_type": "code",
   "execution_count": 34,
   "metadata": {},
   "outputs": [],
   "source": [
    "def get_tse_ticker_ohlc(ticker):\n",
    "    filtered_columns = ['Date', 'Adj Open', 'Adj High','Adj Low', 'Adj Close']\n",
    "    price_data = get_daily_price_data(symbol=ticker, start_date='1398-01-01', end_date='1402-10-01')[filtered_columns]\n",
    "    renamed_dict = {'Adj Open': 'open',\n",
    "                'Adj High': 'high',\n",
    "                'Adj Low': 'low',\n",
    "                'Adj Close': 'close'}\n",
    "    price_data = price_data.rename(renamed_dict, axis=1).reset_index()\n",
    "    price_data.columns = [col.lower() for col in price_data.columns]\n",
    "    price_data['date'] = pd.to_datetime(price_data['date'])\n",
    "    return price_data"
   ]
  },
  {
   "cell_type": "code",
   "execution_count": 35,
   "metadata": {},
   "outputs": [
    {
     "name": "stderr",
     "output_type": "stream",
     "text": [
      "Downloading...:   0%|          | 0/573 [00:00<?, ?it/s]"
     ]
    },
    {
     "name": "stderr",
     "output_type": "stream",
     "text": [
      "Downloading...:   2%|▏         | 13/573 [00:59<46:30,  4.98s/it]/Users/aaa/Desktop/ph.D/term1/Echometrics/final_projects/data/../utils/data_gatherer.py:12: PerformanceWarning: indexing past lexsort depth may impact performance.\n",
      "  symbol_id = search_ticker_webid(symbol).loc[symbol, 'WEB-ID'].values[0]\n",
      "Downloading...:   6%|▌         | 32/573 [02:17<28:34,  3.17s/it]/Users/aaa/Desktop/ph.D/term1/Echometrics/final_projects/data/../utils/data_gatherer.py:12: PerformanceWarning: indexing past lexsort depth may impact performance.\n",
      "  symbol_id = search_ticker_webid(symbol).loc[symbol, 'WEB-ID'].values[0]\n",
      "Downloading...:   8%|▊         | 46/573 [03:13<32:55,  3.75s/it]"
     ]
    },
    {
     "name": "stdout",
     "output_type": "stream",
     "text": [
      "stock is not founded!\n",
      "Error in download: تکاردان\n"
     ]
    },
    {
     "name": "stderr",
     "output_type": "stream",
     "text": [
      "Downloading...:   8%|▊         | 47/573 [03:14<25:13,  2.88s/it]"
     ]
    },
    {
     "name": "stdout",
     "output_type": "stream",
     "text": [
      "stock is not founded!\n",
      "Error in download: تکشا\n"
     ]
    },
    {
     "name": "stderr",
     "output_type": "stream",
     "text": [
      "Downloading...:   8%|▊         | 48/573 [03:15<22:40,  2.59s/it]"
     ]
    },
    {
     "name": "stdout",
     "output_type": "stream",
     "text": [
      "stock is not founded!\n",
      "Error in download: تکمبا\n"
     ]
    },
    {
     "name": "stderr",
     "output_type": "stream",
     "text": [
      "Downloading...:  11%|█         | 61/573 [03:57<29:33,  3.46s/it]/Users/aaa/Desktop/ph.D/term1/Echometrics/final_projects/data/../utils/data_gatherer.py:12: PerformanceWarning: indexing past lexsort depth may impact performance.\n",
      "  symbol_id = search_ticker_webid(symbol).loc[symbol, 'WEB-ID'].values[0]\n",
      "Downloading...:  12%|█▏        | 70/573 [04:32<32:49,  3.92s/it]"
     ]
    },
    {
     "name": "stdout",
     "output_type": "stream",
     "text": [
      "stock is not founded!\n",
      "Error in download: حپترو\n"
     ]
    },
    {
     "name": "stderr",
     "output_type": "stream",
     "text": [
      "Downloading...:  15%|█▌        | 88/573 [05:52<37:35,  4.65s/it]"
     ]
    },
    {
     "name": "stdout",
     "output_type": "stream",
     "text": [
      "stock is not founded!\n",
      "Error in download: خزر\n"
     ]
    },
    {
     "name": "stderr",
     "output_type": "stream",
     "text": [
      "Downloading...:  16%|█▌        | 91/573 [05:59<23:49,  2.97s/it]"
     ]
    },
    {
     "name": "stdout",
     "output_type": "stream",
     "text": [
      "stock is not founded!\n",
      "Error in download: خفنر\n"
     ]
    },
    {
     "name": "stderr",
     "output_type": "stream",
     "text": [
      "Downloading...:  18%|█▊        | 102/573 [06:35<21:30,  2.74s/it]"
     ]
    },
    {
     "name": "stdout",
     "output_type": "stream",
     "text": [
      "stock is not founded!\n",
      "Error in download: خوساز\n"
     ]
    },
    {
     "name": "stderr",
     "output_type": "stream",
     "text": [
      "Downloading...:  20%|█▉        | 113/573 [07:06<20:51,  2.72s/it]"
     ]
    },
    {
     "name": "stdout",
     "output_type": "stream",
     "text": [
      "stock is not founded!\n",
      "Error in download: ددام\n"
     ]
    },
    {
     "name": "stderr",
     "output_type": "stream",
     "text": [
      "Downloading...:  24%|██▍       | 140/573 [08:21<14:34,  2.02s/it]"
     ]
    },
    {
     "name": "stdout",
     "output_type": "stream",
     "text": [
      "stock is not founded!\n",
      "Error in download: ساروم\n"
     ]
    },
    {
     "name": "stderr",
     "output_type": "stream",
     "text": [
      "Downloading...:  25%|██▌       | 145/573 [08:34<17:21,  2.43s/it]"
     ]
    },
    {
     "name": "stdout",
     "output_type": "stream",
     "text": [
      "stock is not founded!\n",
      "Error in download: سپید\n"
     ]
    },
    {
     "name": "stderr",
     "output_type": "stream",
     "text": [
      "Downloading...:  26%|██▌       | 147/573 [08:40<17:46,  2.50s/it]"
     ]
    },
    {
     "name": "stdout",
     "output_type": "stream",
     "text": [
      "stock is not founded!\n",
      "Error in download: سخاش\n"
     ]
    },
    {
     "name": "stderr",
     "output_type": "stream",
     "text": [
      "Downloading...:  27%|██▋       | 153/573 [08:57<19:28,  2.78s/it]"
     ]
    },
    {
     "name": "stdout",
     "output_type": "stream",
     "text": [
      "stock is not founded!\n",
      "Error in download: سشرق\n"
     ]
    },
    {
     "name": "stderr",
     "output_type": "stream",
     "text": [
      "Downloading...:  27%|██▋       | 154/573 [08:59<17:41,  2.53s/it]"
     ]
    },
    {
     "name": "stdout",
     "output_type": "stream",
     "text": [
      "stock is not founded!\n",
      "Error in download: سشمال\n"
     ]
    },
    {
     "name": "stderr",
     "output_type": "stream",
     "text": [
      "Downloading...:  29%|██▉       | 169/573 [09:44<19:08,  2.84s/it]/Users/aaa/Desktop/ph.D/term1/Echometrics/final_projects/data/../utils/data_gatherer.py:12: PerformanceWarning: indexing past lexsort depth may impact performance.\n",
      "  symbol_id = search_ticker_webid(symbol).loc[symbol, 'WEB-ID'].values[0]\n",
      "Downloading...:  37%|███▋      | 211/573 [11:58<15:49,  2.62s/it]"
     ]
    },
    {
     "name": "stdout",
     "output_type": "stream",
     "text": [
      "stock is not founded!\n",
      "Error in download: غدشت\n"
     ]
    },
    {
     "name": "stderr",
     "output_type": "stream",
     "text": [
      "Downloading...:  39%|███▉      | 224/573 [12:38<17:26,  3.00s/it]"
     ]
    },
    {
     "name": "stdout",
     "output_type": "stream",
     "text": [
      "stock is not founded!\n",
      "Error in download: فاراک\n"
     ]
    },
    {
     "name": "stderr",
     "output_type": "stream",
     "text": [
      "Downloading...:  40%|████      | 231/573 [13:02<17:55,  3.15s/it]/Users/aaa/Desktop/ph.D/term1/Echometrics/final_projects/data/../utils/data_gatherer.py:12: PerformanceWarning: indexing past lexsort depth may impact performance.\n",
      "  symbol_id = search_ticker_webid(symbol).loc[symbol, 'WEB-ID'].values[0]\n",
      "Downloading...:  42%|████▏     | 240/573 [13:40<24:07,  4.35s/it]"
     ]
    },
    {
     "name": "stdout",
     "output_type": "stream",
     "text": [
      "stock is not founded!\n",
      "Error in download: فسرب\n"
     ]
    },
    {
     "name": "stderr",
     "output_type": "stream",
     "text": [
      "Downloading...:  48%|████▊     | 273/573 [15:29<14:15,  2.85s/it]"
     ]
    },
    {
     "name": "stdout",
     "output_type": "stream",
     "text": [
      "stock is not founded!\n",
      "Error in download: کرماشا\n"
     ]
    },
    {
     "name": "stderr",
     "output_type": "stream",
     "text": [
      "Downloading...:  54%|█████▍    | 312/573 [17:29<11:10,  2.57s/it]"
     ]
    },
    {
     "name": "stdout",
     "output_type": "stream",
     "text": [
      "stock is not founded!\n",
      "Error in download: والبر\n"
     ]
    },
    {
     "name": "stderr",
     "output_type": "stream",
     "text": [
      "Downloading...:  56%|█████▌    | 320/573 [17:55<13:44,  3.26s/it]"
     ]
    },
    {
     "name": "stdout",
     "output_type": "stream",
     "text": [
      "stock is not founded!\n",
      "Error in download: وبوعلی\n"
     ]
    },
    {
     "name": "stderr",
     "output_type": "stream",
     "text": [
      "Downloading...:  59%|█████▉    | 337/573 [19:07<13:19,  3.39s/it]"
     ]
    },
    {
     "name": "stdout",
     "output_type": "stream",
     "text": [
      "stock is not founded!\n",
      "Error in download: وساخت\n"
     ]
    },
    {
     "name": "stderr",
     "output_type": "stream",
     "text": [
      "Downloading...:  60%|██████    | 346/573 [19:26<08:07,  2.15s/it]"
     ]
    },
    {
     "name": "stdout",
     "output_type": "stream",
     "text": [
      "stock is not founded!\n",
      "Error in download: وسرضوی\n"
     ]
    },
    {
     "name": "stderr",
     "output_type": "stream",
     "text": [
      "Downloading...:  61%|██████    | 348/573 [19:30<07:37,  2.03s/it]"
     ]
    },
    {
     "name": "stdout",
     "output_type": "stream",
     "text": [
      "stock is not founded!\n",
      "Error in download: وسصفا\n"
     ]
    },
    {
     "name": "stderr",
     "output_type": "stream",
     "text": [
      "Downloading...:  61%|██████▏   | 351/573 [19:36<07:12,  1.95s/it]"
     ]
    },
    {
     "name": "stdout",
     "output_type": "stream",
     "text": [
      "stock is not founded!\n",
      "Error in download: وسکاب\n"
     ]
    },
    {
     "name": "stderr",
     "output_type": "stream",
     "text": [
      "Downloading...:  68%|██████▊   | 389/573 [21:23<08:39,  2.82s/it]/Users/aaa/Desktop/ph.D/term1/Echometrics/final_projects/data/../utils/data_gatherer.py:12: PerformanceWarning: indexing past lexsort depth may impact performance.\n",
      "  symbol_id = search_ticker_webid(symbol).loc[symbol, 'WEB-ID'].values[0]\n",
      "Downloading...:  70%|██████▉   | 400/573 [21:58<07:06,  2.47s/it]"
     ]
    },
    {
     "name": "stdout",
     "output_type": "stream",
     "text": [
      "stock is not founded!\n",
      "Error in download: بخاور\n"
     ]
    },
    {
     "name": "stderr",
     "output_type": "stream",
     "text": [
      "Downloading...:  71%|███████▏  | 409/573 [22:26<09:38,  3.53s/it]/Users/aaa/Desktop/ph.D/term1/Echometrics/final_projects/data/../utils/data_gatherer.py:12: PerformanceWarning: indexing past lexsort depth may impact performance.\n",
      "  symbol_id = search_ticker_webid(symbol).loc[symbol, 'WEB-ID'].values[0]\n",
      "Downloading...:  72%|███████▏  | 411/573 [22:30<08:06,  3.00s/it]/Users/aaa/Desktop/ph.D/term1/Echometrics/final_projects/data/../utils/data_gatherer.py:12: PerformanceWarning: indexing past lexsort depth may impact performance.\n",
      "  symbol_id = search_ticker_webid(symbol).loc[symbol, 'WEB-ID'].values[0]\n",
      "Downloading...:  76%|███████▋  | 438/573 [23:51<06:06,  2.72s/it]/Users/aaa/Desktop/ph.D/term1/Echometrics/final_projects/data/../utils/data_gatherer.py:12: PerformanceWarning: indexing past lexsort depth may impact performance.\n",
      "  symbol_id = search_ticker_webid(symbol).loc[symbol, 'WEB-ID'].values[0]\n",
      "Downloading...:  77%|███████▋  | 443/573 [24:01<04:22,  2.02s/it]"
     ]
    },
    {
     "name": "stdout",
     "output_type": "stream",
     "text": [
      "stock is not founded!\n",
      "Error in download: دبالک\n"
     ]
    },
    {
     "name": "stderr",
     "output_type": "stream",
     "text": [
      "Downloading...:  78%|███████▊  | 449/573 [24:16<04:57,  2.40s/it]/Users/aaa/Desktop/ph.D/term1/Echometrics/final_projects/data/../utils/data_gatherer.py:12: PerformanceWarning: indexing past lexsort depth may impact performance.\n",
      "  symbol_id = search_ticker_webid(symbol).loc[symbol, 'WEB-ID'].values[0]\n",
      "Downloading...:  79%|███████▉  | 452/573 [24:22<04:18,  2.13s/it]"
     ]
    },
    {
     "name": "stdout",
     "output_type": "stream",
     "text": [
      "Error in download: دماوند\n"
     ]
    },
    {
     "name": "stderr",
     "output_type": "stream",
     "text": [
      "Downloading...:  79%|███████▉  | 454/573 [24:25<03:35,  1.81s/it]"
     ]
    },
    {
     "name": "stdout",
     "output_type": "stream",
     "text": [
      "stock is not founded!\n",
      "Error in download: رنیک\n"
     ]
    },
    {
     "name": "stderr",
     "output_type": "stream",
     "text": [
      "Downloading...:  82%|████████▏ | 468/573 [24:59<03:23,  1.94s/it]"
     ]
    },
    {
     "name": "stdout",
     "output_type": "stream",
     "text": [
      "stock is not founded!\n",
      "Error in download: زنگان\n"
     ]
    },
    {
     "name": "stderr",
     "output_type": "stream",
     "text": [
      "Downloading...:  82%|████████▏ | 470/573 [25:03<03:25,  2.00s/it]"
     ]
    },
    {
     "name": "stdout",
     "output_type": "stream",
     "text": [
      "Error in download: سامان\n"
     ]
    },
    {
     "name": "stderr",
     "output_type": "stream",
     "text": [
      "Downloading...:  85%|████████▍ | 486/573 [25:43<03:27,  2.38s/it]"
     ]
    },
    {
     "name": "stdout",
     "output_type": "stream",
     "text": [
      "stock is not founded!\n",
      "Error in download: شرانل\n"
     ]
    },
    {
     "name": "stderr",
     "output_type": "stream",
     "text": [
      "Downloading...:  85%|████████▌ | 489/573 [25:48<02:40,  1.91s/it]"
     ]
    },
    {
     "name": "stdout",
     "output_type": "stream",
     "text": [
      "stock is not founded!\n",
      "Error in download: شگویا\n"
     ]
    },
    {
     "name": "stderr",
     "output_type": "stream",
     "text": [
      "Downloading...:  87%|████████▋ | 496/573 [26:04<03:02,  2.37s/it]/Users/aaa/Desktop/ph.D/term1/Echometrics/final_projects/data/../utils/data_gatherer.py:12: PerformanceWarning: indexing past lexsort depth may impact performance.\n",
      "  symbol_id = search_ticker_webid(symbol).loc[symbol, 'WEB-ID'].values[0]\n",
      "Downloading...:  88%|████████▊ | 503/573 [26:21<02:47,  2.39s/it]/Users/aaa/Desktop/ph.D/term1/Echometrics/final_projects/data/../utils/data_gatherer.py:12: PerformanceWarning: indexing past lexsort depth may impact performance.\n",
      "  symbol_id = search_ticker_webid(symbol).loc[symbol, 'WEB-ID'].values[0]\n",
      "Downloading...:  97%|█████████▋| 556/573 [28:29<00:39,  2.31s/it]/Users/aaa/Desktop/ph.D/term1/Echometrics/final_projects/data/../utils/data_gatherer.py:12: PerformanceWarning: indexing past lexsort depth may impact performance.\n",
      "  symbol_id = search_ticker_webid(symbol).loc[symbol, 'WEB-ID'].values[0]\n",
      "Downloading...: 100%|██████████| 573/573 [29:13<00:00,  3.06s/it]\n"
     ]
    }
   ],
   "source": [
    "all_tickers = list(look_up['Ticker'].unique())\n",
    "error_tickers = []\n",
    "dict_price_data = {}\n",
    "    \n",
    "\n",
    "for i in tqdm(range(len(all_tickers)), desc=\"Downloading...\"):\n",
    "    try:\n",
    "        ticker = all_tickers[i]\n",
    "        dict_price_data[ticker] = get_tse_ticker_ohlc(ticker)\n",
    "        \n",
    "    except:\n",
    "        error_tickers.append(ticker)\n",
    "        print(f'Error in download: {ticker}')\n",
    "        continue"
   ]
  },
  {
   "cell_type": "markdown",
   "metadata": {},
   "source": [
    "#### dump as pickle file"
   ]
  },
  {
   "cell_type": "code",
   "execution_count": 36,
   "metadata": {},
   "outputs": [],
   "source": [
    "with open('tse_symbols_price.pickle', 'wb') as handle:\n",
    "    pickle.dump(dict_price_data, handle)"
   ]
  }
 ],
 "metadata": {
  "kernelspec": {
   "display_name": "Python 3",
   "language": "python",
   "name": "python3"
  },
  "language_info": {
   "codemirror_mode": {
    "name": "ipython",
    "version": 3
   },
   "file_extension": ".py",
   "mimetype": "text/x-python",
   "name": "python",
   "nbconvert_exporter": "python",
   "pygments_lexer": "ipython3",
   "version": "3.9.12"
  }
 },
 "nbformat": 4,
 "nbformat_minor": 2
}
